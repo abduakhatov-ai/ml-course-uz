{
 "cells": [
  {
   "cell_type": "markdown",
   "metadata": {},
   "source": [
    "# Оценка бинарной классификации\n",
    "Бинарная классификация одна из наиболее важных и часто встречаемых классов задач. Причем не только модели машинного обучения но и другие тесты также могут выдавать результат в виде бинарных классов. Например, медицинский тест на наличие заболевания (больной/здоровый), радиолокатор для определения вражеских объектов (свой/чужой) также являются бинарными классификаторами.\n",
    "\n",
    "По этой причине важно оценить модель правильно и иногда несколькими разными способами. В этом материале мы рассмотрим несколько таких методов оценки. Для этого мы сначала обучим модель логистической регрессии, чтобы потом её оценить разными методами. В качестве такой задачи будем использовать набор данных <a href=\"http://scikit-learn.org/stable/modules/generated/sklearn.datasets.load_breast_cancer.html\">breast cancer</a> (рак груди) доступный в sklearn. Данный набор содержит данные по 569 пациентам, у которых выявлена опухоль груди, из которых 212 являются злокачественными (malignant) и 357 доброкачественными (benign). Данные содержат 30 признаков. Необходимо создать модель бинарной классификации, которая будет различать злокачественную опухоль от доброкачественной. Злокачественная опухоль соответствует отрицательным (0), а доброкачественна к положительным (1) классам.\n",
    "\n",
    "Для начала симпортируем все необходимые модули."
   ]
  },
  {
   "cell_type": "code",
   "execution_count": 1,
   "metadata": {
    "ExecuteTime": {
     "end_time": "2018-02-02T16:34:09.828238Z",
     "start_time": "2018-02-02T16:34:08.905738Z"
    },
    "collapsed": true
   },
   "outputs": [],
   "source": [
    "%matplotlib inline\n",
    "import numpy as np\n",
    "import matplotlib.pyplot as plt\n",
    "from scipy import stats\n",
    "\n",
    "# use seaborn plotting defaults\n",
    "import seaborn as sns; sns.set()"
   ]
  },
  {
   "cell_type": "markdown",
   "metadata": {},
   "source": [
    "С помощью функции `datasets.load_breast_cancer` загрузим набор данных и посмотрим их количество."
   ]
  },
  {
   "cell_type": "code",
   "execution_count": 2,
   "metadata": {
    "ExecuteTime": {
     "end_time": "2018-02-02T16:34:09.958239Z",
     "start_time": "2018-02-02T16:34:09.830238Z"
    }
   },
   "outputs": [
    {
     "name": "stdout",
     "output_type": "stream",
     "text": [
      "X shape                : (569, 30)\n",
      "y shape                : (569,)\n",
      "target names           : ['malignant' 'benign']\n",
      "positve (benign) cancer: 357\n"
     ]
    }
   ],
   "source": [
    "from sklearn import datasets\n",
    "from sklearn.linear_model import LogisticRegression\n",
    "from sklearn.model_selection import train_test_split\n",
    "import numpy as np\n",
    "\n",
    "breast_cancer = datasets.load_breast_cancer()\n",
    "X = breast_cancer.data\n",
    "y = breast_cancer.target\n",
    "print('X shape                :', X.shape)\n",
    "print('y shape                :', y.shape)\n",
    "print('target names           :', breast_cancer.target_names)\n",
    "print('positve (benign) cancer:', np.sum(y))"
   ]
  },
  {
   "cell_type": "markdown",
   "metadata": {},
   "source": [
    "Как обычно разобьем данные на тренировочный и тестовый наборы в пропорции 75% на 25%. При этом зафиксируем генератор случайных чисел, чтобы получать воспроизводимые результаты."
   ]
  },
  {
   "cell_type": "code",
   "execution_count": 3,
   "metadata": {
    "ExecuteTime": {
     "end_time": "2018-02-02T16:34:09.966739Z",
     "start_time": "2018-02-02T16:34:09.959738Z"
    },
    "collapsed": true
   },
   "outputs": [],
   "source": [
    "random_state = np.random.RandomState(0)\n",
    "X_train, X_test, y_train, y_test = train_test_split(X, y, test_size=.25, random_state=random_state)"
   ]
  },
  {
   "cell_type": "markdown",
   "metadata": {},
   "source": [
    "Теперь можно создать модель логистической регрессии и обучить её."
   ]
  },
  {
   "cell_type": "code",
   "execution_count": 4,
   "metadata": {
    "ExecuteTime": {
     "end_time": "2018-02-02T16:34:09.993239Z",
     "start_time": "2018-02-02T16:34:09.968739Z"
    }
   },
   "outputs": [
    {
     "data": {
      "text/plain": [
       "LogisticRegression(C=1.0, class_weight=None, dual=False, fit_intercept=True,\n",
       "          intercept_scaling=1, max_iter=100, multi_class='ovr', n_jobs=1,\n",
       "          penalty='l2',\n",
       "          random_state=<mtrand.RandomState object at 0x0000025A9FD26B88>,\n",
       "          solver='liblinear', tol=0.0001, verbose=0, warm_start=False)"
      ]
     },
     "execution_count": 4,
     "metadata": {},
     "output_type": "execute_result"
    }
   ],
   "source": [
    "classifier = LogisticRegression(random_state=random_state)\n",
    "classifier.fit(X_train, y_train)"
   ]
  },
  {
   "cell_type": "markdown",
   "metadata": {},
   "source": [
    "С помощью этой модели можно предсказать тип опухоли"
   ]
  },
  {
   "cell_type": "code",
   "execution_count": 5,
   "metadata": {
    "ExecuteTime": {
     "end_time": "2018-02-02T16:34:10.002239Z",
     "start_time": "2018-02-02T16:34:09.994739Z"
    }
   },
   "outputs": [
    {
     "data": {
      "text/plain": [
       "array([0, 1, 1, 1, 1, 1, 1, 1, 1, 1, 1, 1, 1, 0, 1, 0, 1, 0, 0, 0, 0, 0, 1,\n",
       "       1, 0, 1, 1, 0, 1, 0, 1, 0, 1, 0, 1, 0, 1, 0, 1, 0, 0, 1, 0, 1, 0, 0,\n",
       "       1, 1, 1, 0, 0, 0, 0, 1, 1, 1, 1, 1, 1, 0, 0, 0, 1, 1, 0, 1, 0, 0, 0,\n",
       "       1, 0, 0, 1, 1, 0, 1, 1, 1, 1, 1, 0, 0, 0, 1, 0, 1, 1, 1, 0, 0, 1, 0,\n",
       "       0, 0, 1, 1, 0, 1, 1, 1, 1, 1, 1, 1, 0, 1, 0, 1, 0, 0, 1, 0, 0, 1, 1,\n",
       "       1, 1, 1, 1, 1, 1, 1, 0, 1, 0, 1, 0, 1, 1, 1, 0, 1, 1, 1, 1, 1, 1, 0,\n",
       "       0, 1, 1, 1, 0])"
      ]
     },
     "execution_count": 5,
     "metadata": {},
     "output_type": "execute_result"
    }
   ],
   "source": [
    "y_test_pred = classifier.predict(X_test)\n",
    "y_test_pred"
   ]
  },
  {
   "cell_type": "markdown",
   "metadata": {},
   "source": [
    "Введем несколько определений, которые будем использовать дальше\n",
    "\n",
    "|      Основные показатели                                           |\n",
    "|----------------|---------------------------------------------------|\n",
    "|  $T_p$         | True positive - истинно положительные результаты  |\n",
    "|  $T_n$         | True negative - истинно отрицательные результаты  |\n",
    "|  $F_p$         | False positive - ложно положительные результаты   |\n",
    "|  $F_n$         | False negative - ложно отрицательные результаты   |\n",
    "\n",
    "\n",
    "## Матрица заблуждений (confusion matrix)\n",
    "Для начала будем оценивать результаты модели классификации с помощью так называемой матрицы заблуждений (confusion matrix). Матрица заблуждений показывает количество верных и ошибочных предсказаний для каждого класса. В задаче бинарной классификации матрица имеет размер 2x2. В sklearn для получения этой матрицы используется функция `confusion_matrix` из модуля `sklearn.metrics`. Для модели бинарной классификации она возвращает матрицу, у которой ячейка [0, 0] содержит количество истинно отрицательных (true negative, $T_n$), ячейка [1, 1] содержит количество истинно положительных (true positive, $T_p$) результатов. Ячейки [1, 0] и [0, 1] содержат количество ложноотрицательных (false negative, $F_n$) и ложноположительных (false positive, $F_p$) результатов соответственно."
   ]
  },
  {
   "cell_type": "code",
   "execution_count": 6,
   "metadata": {
    "ExecuteTime": {
     "end_time": "2018-02-02T16:34:10.014739Z",
     "start_time": "2018-02-02T16:34:10.004239Z"
    },
    "scrolled": true
   },
   "outputs": [
    {
     "name": "stdout",
     "output_type": "stream",
     "text": [
      "[[52  1]\n",
      " [ 5 85]]\n"
     ]
    }
   ],
   "source": [
    "from sklearn.metrics import confusion_matrix\n",
    "cmat = confusion_matrix(y_test, y_test_pred)\n",
    "print(cmat)"
   ]
  },
  {
   "cell_type": "markdown",
   "metadata": {},
   "source": [
    "Матрица заблуждений лучше всего визуализируется с помощью тепловой карты (heatmap). Для создания тепловой карты воспользуемся функцией `heatmap` из библиотеки `seaborn`."
   ]
  },
  {
   "cell_type": "code",
   "execution_count": 7,
   "metadata": {
    "ExecuteTime": {
     "end_time": "2018-02-02T16:34:10.130239Z",
     "start_time": "2018-02-02T16:34:10.016739Z"
    }
   },
   "outputs": [
    {
     "data": {
      "text/plain": [
       "(90, 86)"
      ]
     },
     "execution_count": 7,
     "metadata": {},
     "output_type": "execute_result"
    },
    {
     "data": {
      "image/png": "[encoded data removed]",
      "text/plain": [
       "<matplotlib.figure.Figure at 0x25a9e868c88>"
      ]
     },
     "metadata": {},
     "output_type": "display_data"
    }
   ],
   "source": [
    "target_names = ['Malignant', 'Benign']\n",
    "sns.heatmap(cmat.T, square=True, annot=True, fmt='d', cbar=False,\n",
    "            xticklabels=target_names, yticklabels=target_names)\n",
    "y_test.sum(), y_test_pred.sum()"
   ]
  },
  {
   "cell_type": "markdown",
   "metadata": {},
   "source": [
    "## Точность, полнота и f1-score (precision, recall & f1-score)\n",
    "В информационном поиске точность это мера релевантности результатов поиска. Например, если из всех результатов поиска только 60% релевантны запросу, то точность составляет 60%. В информационном поиске полнота это мера доли релевантных ответов в результате поиска относительно всех релевантных ответов. Например, если в целом в базе есть 100 релевантных запросу документов, из которых в результате поиска вернулось только 40, то полнота равна 40%. \n",
    "\n",
    "Модель, у которой высокая полнота, но низкая точность, возвращает очень много результатов, среди которых много неверных ответов. Например, если модель может определить всех истинно больных но при этом очень часто определяет здорового человека больным, то у нее будет высокая полнота но низкая точность. И наоборот, если у модели высокая точность но низкая полнота, то она будет редко определять положительные классы, но эти кассы будут в большинстве случаев корректно классифицированы. Например, если модель не может определить всех больных, но при этом никогда не определяет здорового человека больным, то у этой модели высокая точность но низкая полнота.\n",
    "\n",
    "Точность (P) и полнота (R) определяются следующими формулами\n",
    "$$\n",
    "\\Large \n",
    "\\begin{align}\n",
    "P &= \\frac{T_p}{T_p + F_p} \\\\\n",
    "R &= \\frac{T_p}{T_p + F_n}\n",
    "\\end{align}\n",
    "$$\n",
    "\n",
    "Иногда межет быть желательно найти баланс между этими показателями. В таком случае можно использовать меру F1-score, которая является <a href=\"https://ru.wikipedia.org/wiki/%D0%A1%D1%80%D0%B5%D0%B4%D0%BD%D0%B5%D0%B5_%D0%B3%D0%B0%D1%80%D0%BC%D0%BE%D0%BD%D0%B8%D1%87%D0%B5%D1%81%D0%BA%D0%BE%D0%B5\">гармоническим средним</a> (harmonic mean) значением между точность и полнотой:\n",
    "$$\n",
    "\\Large F1 = 2 \\frac{PR}{P + R}\n",
    "$$\n",
    "\n",
    "Функция `classification_report` возвращает точность (precision), полноту (recall) и f1-score для каждого класса. Колонка support отображает количество данных соответсующему классу в данных."
   ]
  },
  {
   "cell_type": "code",
   "execution_count": 8,
   "metadata": {
    "ExecuteTime": {
     "end_time": "2018-02-02T16:34:10.138739Z",
     "start_time": "2018-02-02T16:34:10.132239Z"
    }
   },
   "outputs": [
    {
     "name": "stdout",
     "output_type": "stream",
     "text": [
      "             precision    recall  f1-score   support\n",
      "\n",
      "  Malignant       0.91      0.98      0.95        53\n",
      "     Benign       0.99      0.94      0.97        90\n",
      "\n",
      "avg / total       0.96      0.96      0.96       143\n",
      "\n"
     ]
    }
   ],
   "source": [
    "from sklearn.metrics import classification_report\n",
    "print(classification_report(y_test, y_test_pred, target_names=target_names))"
   ]
  },
  {
   "cell_type": "markdown",
   "metadata": {},
   "source": [
    "# ROC-кривая (ROC curve)\n",
    "Модель бинарной классификации может возвращать вероятность принадлежности одному из двух классов. Чтобы отнести пример к тому или другому классу необходимо подобрать порог вероятности, выше которого все предсказания будут считаться положительными, а ниже этого порога отрицательными. Выбор этого порогового значения позволяет балансировать точность и полноту.\n",
    "\n",
    "ROC-кривая (англ. receiver operating characteristic, рабочая характеристика приёмника) - график, позволяющий оценить качество бинарной классификации при изменении порога решений (decision threshold). Использование этой кривой очень распространено. Изначально кривая была создана для оценки работы военных радаров (отсюда и название). Вскоре её начали использовать для оценки моделей в психологии, медицине, радиологии, метереологии и т.д. \n",
    "\n",
    "ROC-кривая показывает зависимость изменения полноты по отношению к ложноположительным результатам при изменении порога верятности. Численно ROC-кривая характеризуется размером площади под кривой (ROC area under curve, ROC-AUC). В идеале эта площадь должна быть равна единице, тогда модель будет находить все истинно положительные результаты (полнота 100%). Для сравнения вместе ROC-кривой всегда рисуется диагональная линия, которая соответствует модели, которая возвращает ответы случайно в пропорции 50/50. ROC-AUC значение этой кривой равно 0.5. ROC-кривая любой другой модели должна быть выше этой линии иначе никакой ценности эта модель не будет из себя представлять. Можно попробовать интерактивные примеры ROC-кривой по ссылкам <a href=\"http://www.navan.name/roc/\">Understanding ROC curves</a> и <a href=\"http://arogozhnikov.github.io/2015/10/05/roc-curve.html\">ROC curve demonstration</a>.\n",
    "\n",
    "Для получения ROC-кривой в sklearn используется функция `roc_curve` из модуля `sklearn.metrics`. ROC-AUC можно вычислить с помощью функции `roc_auc_score` из модуля `sklearn.metrics`."
   ]
  },
  {
   "cell_type": "code",
   "execution_count": 9,
   "metadata": {
    "ExecuteTime": {
     "end_time": "2018-02-02T16:34:10.154739Z",
     "start_time": "2018-02-02T16:34:10.141239Z"
    },
    "collapsed": true
   },
   "outputs": [],
   "source": [
    "y_test_prob = classifier.predict_proba(X_test)[:, 1]"
   ]
  },
  {
   "cell_type": "code",
   "execution_count": 10,
   "metadata": {
    "ExecuteTime": {
     "end_time": "2018-02-02T16:34:10.331239Z",
     "start_time": "2018-02-02T16:34:10.156739Z"
    },
    "scrolled": false
   },
   "outputs": [
    {
     "data": {
      "text/plain": [
       "<matplotlib.legend.Legend at 0x25aa01f19e8>"
      ]
     },
     "execution_count": 10,
     "metadata": {},
     "output_type": "execute_result"
    },
    {
     "data": {
      "image/png": "[encoded data removed]",
      "text/plain": [
       "<matplotlib.figure.Figure at 0x25a9fef0400>"
      ]
     },
     "metadata": {},
     "output_type": "display_data"
    }
   ],
   "source": [
    "from sklearn.metrics import roc_curve, roc_auc_score\n",
    "fpr, tpr, thresholds = roc_curve(y_test, y_test_prob, pos_label=1)\n",
    "score = roc_auc_score(y_test, y_test_prob)\n",
    "plt.plot(fpr, tpr, color='darkorange', lw=2, label='ROC curve (area = %0.2f)' % score)\n",
    "plt.plot([0, 1], [0, 1], color='navy', lw=2, linestyle='--')\n",
    "plt.xlim([0.0, 1.0])\n",
    "plt.ylim([0.0, 1.05])\n",
    "plt.xlabel('False Positive Rate')\n",
    "plt.ylabel('True Positive Rate')\n",
    "plt.title('Receiver operating characteristic example')\n",
    "plt.legend(loc=\"lower right\")"
   ]
  },
  {
   "cell_type": "markdown",
   "metadata": {},
   "source": [
    "Само значение порога вероятности в графике не отображается. Можно выбрать нужный порог и отобразить точку на графике самостоятельно. Например, следующий код вычисляет f1-score для каждого порога, который вернула функция `roc_curve`, и выбирает тот порог, при котором f1-score достигает максимума."
   ]
  },
  {
   "cell_type": "code",
   "execution_count": 11,
   "metadata": {
    "ExecuteTime": {
     "end_time": "2018-02-02T16:34:10.492239Z",
     "start_time": "2018-02-02T16:34:10.333239Z"
    }
   },
   "outputs": [
    {
     "name": "stdout",
     "output_type": "stream",
     "text": [
      "best f1 score          : 0.983240223464\n",
      "best f1 score threshold: 0.311596391406\n",
      "false positive rate    : 0.0377358490566\n",
      "true positive rate     : 0.977777777778\n"
     ]
    },
    {
     "name": "stderr",
     "output_type": "stream",
     "text": [
      "C:\\Users\\Rustam\\Anaconda3\\lib\\site-packages\\sklearn\\metrics\\classification.py:1135: UndefinedMetricWarning: F-score is ill-defined and being set to 0.0 due to no predicted samples.\n",
      "  'precision', 'predicted', average, warn_for)\n"
     ]
    },
    {
     "data": {
      "image/png": "[encoded data removed]",
      "text/plain": [
       "<matplotlib.figure.Figure at 0x25a9ae0f710>"
      ]
     },
     "metadata": {},
     "output_type": "display_data"
    }
   ],
   "source": [
    "from sklearn.metrics import f1_score\n",
    "\n",
    "f1 = [f1_score(y_test, (y_test_prob > t).astype(int)) for t in thresholds]\n",
    "best_threshold_idx = np.argmax(f1)\n",
    "best_threshold = thresholds[best_threshold_idx]\n",
    "\n",
    "plt.plot(fpr, tpr, color='darkorange', lw=2, label='ROC curve (area = %0.2f)' % score)\n",
    "plt.plot([0, 1], [0, 1], color='navy', lw=2, linestyle='--')\n",
    "plt.xlim([0.0, 1.0])\n",
    "plt.ylim([0.0, 1.05])\n",
    "plt.xlabel('False Positive Rate')\n",
    "plt.ylabel('True Positive Rate')\n",
    "plt.title('Receiver operating characteristic example')\n",
    "plt.legend(loc=\"lower right\")\n",
    "\n",
    "plt.scatter(fpr[best_threshold_idx], tpr[best_threshold_idx], s=50, c='b')\n",
    "\n",
    "print('best f1 score          :', np.max(f1))\n",
    "print('best f1 score threshold:', best_threshold)\n",
    "print('false positive rate    :', fpr[best_threshold_idx])\n",
    "print('true positive rate     :', tpr[best_threshold_idx])"
   ]
  },
  {
   "cell_type": "markdown",
   "metadata": {},
   "source": [
    "## Precision-recall кривая\n",
    "Иногда в задачах классификации классы могут быть сильно несбалансированы. Например, допустим, что при определении мошеннических транзакций (fraud detection) лишь одна из тысячи транзакций являются мошенническими (т.е. 0.1%). Если создать модель, которая всегда будет возвращать 0 (т.е. транзакция не мошенническая), то она будет работать с точностью 99.9%. Однако очевидно, что эта модель бесполезная. Для оценки моделей с такими сильно несбалансированными значениями классов можно использовать precision-recall кривую. Кривая показывает зависимость изменения точности по отношению к полноте при изменении порога верятности. Чтобы увеличить полноту необходимо понижать порог вероятности. Однако это ведет к сниженгию точности, так как при этом будут появляться все больше ложно положительных результатов."
   ]
  },
  {
   "cell_type": "code",
   "execution_count": 12,
   "metadata": {
    "ExecuteTime": {
     "end_time": "2018-02-02T16:34:10.504239Z",
     "start_time": "2018-02-02T16:34:10.494739Z"
    }
   },
   "outputs": [
    {
     "name": "stdout",
     "output_type": "stream",
     "text": [
      "Average precision-recall score: 1.00\n"
     ]
    }
   ],
   "source": [
    "from sklearn.metrics import average_precision_score\n",
    "average_precision = average_precision_score(y_test, y_test_prob)\n",
    "\n",
    "print('Average precision-recall score: {0:0.2f}'.format(average_precision))"
   ]
  },
  {
   "cell_type": "code",
   "execution_count": 13,
   "metadata": {
    "ExecuteTime": {
     "end_time": "2018-02-02T16:34:10.665240Z",
     "start_time": "2018-02-02T16:34:10.507739Z"
    }
   },
   "outputs": [
    {
     "name": "stdout",
     "output_type": "stream",
     "text": [
      "precision [ 0.89108911  0.89        0.8989899   0.90816327  0.91752577]\n",
      "recall [ 1.          0.98888889  0.98888889  0.98888889  0.98888889]\n",
      "thresholds [ 0.04947608  0.05042727  0.0564132   0.05862503  0.07422455]\n"
     ]
    },
    {
     "data": {
      "image/png": "[encoded data removed]",
      "text/plain": [
       "<matplotlib.figure.Figure at 0x25a9ff2e6a0>"
      ]
     },
     "metadata": {},
     "output_type": "display_data"
    }
   ],
   "source": [
    "from sklearn.metrics import precision_recall_curve\n",
    "import matplotlib.pyplot as plt\n",
    "\n",
    "precision, recall, thresholds = precision_recall_curve(y_test, y_test_prob)\n",
    "\n",
    "plt.step(recall, precision, color='b', alpha=0.2, where='post')\n",
    "plt.fill_between(recall, precision, step='post', alpha=0.2, color='b')\n",
    "\n",
    "plt.xlabel('Recall')\n",
    "plt.ylabel('Precision')\n",
    "plt.ylim([0.0, 1.05])\n",
    "plt.xlim([0.0, 1.0])\n",
    "plt.title('2-class Precision-Recall curve: AP={0:0.2f}'.format(average_precision))\n",
    "print('precision', precision[:5])\n",
    "print('recall', recall[:5])\n",
    "print('thresholds', thresholds[:5])"
   ]
  }
 ],
 "metadata": {
  "hide_input": false,
  "kernelspec": {
   "display_name": "Python 3",
   "language": "python",
   "name": "python3"
  },
  "language_info": {
   "codemirror_mode": {
    "name": "ipython",
    "version": 3
   },
   "file_extension": ".py",
   "mimetype": "text/x-python",
   "name": "python",
   "nbconvert_exporter": "python",
   "pygments_lexer": "ipython3",
   "version": "3.6.1"
  },
  "varInspector": {
   "cols": {
    "lenName": 16,
    "lenType": 16,
    "lenVar": 40
   },
   "kernels_config": {
    "python": {
     "delete_cmd_postfix": "",
     "delete_cmd_prefix": "del ",
     "library": "var_list.py",
     "varRefreshCmd": "print(var_dic_list())"
    },
    "r": {
     "delete_cmd_postfix": ") ",
     "delete_cmd_prefix": "rm(",
     "library": "var_list.r",
     "varRefreshCmd": "cat(var_dic_list()) "
    }
   },
   "types_to_exclude": [
    "module",
    "function",
    "builtin_function_or_method",
    "instance",
    "_Feature"
   ],
   "window_display": false
  }
 },
 "nbformat": 4,
 "nbformat_minor": 2
}

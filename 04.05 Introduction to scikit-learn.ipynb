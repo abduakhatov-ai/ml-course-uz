{
 "cells": [
  {
   "cell_type": "markdown",
   "metadata": {},
   "source": [
    "# Машинное обучение с помощью Scikit learn\n",
    "В данном разделе мы рассмотрим практический пример использования линейной регрессии с помощью библиотеки <a href='http://scikit-learn.org/stable/index.html'>Scikit learn</a>. Scikit learn (коротко sklearn) предоставляет унифицированный программный интерфейс для различных алгоритмов машинного обучения. Для обучения модели данные разбиваются на две части. Первая часть называется обучающей выборкой (training set), вторая тестовой (test set). Обучающая выборка используется для обучения модели. После получения обученной модели её качество тестируется на тестовой выборке. \n",
    "\n",
    "В sklearn все модели машинного обучения с учителем реализуют следующие функции:\n",
    "\n",
    "|Функция                    | Описание                                                        |\n",
    "|---------------------------|-----------------------------------------------------------------|\n",
    "| `model.fit()`             | Обучает модель по данной обучающей выборке                      |\n",
    "| `model.predict()`         | Предсказывает значение целевой переменной на основе новых данных|\n",
    "| `model.predict_proba()`   | Предсказывает вероятность классификации                         |\n",
    "| `model.score()`           | Оценка качества модели. Для задач регрессии возвращает <a href='https://ru.wikipedia.org/wiki/%D0%9A%D0%BE%D1%8D%D1%84%D1%84%D0%B8%D1%86%D0%B8%D0%B5%D0%BD%D1%82_%D0%B4%D0%B5%D1%82%D0%B5%D1%80%D0%BC%D0%B8%D0%BD%D0%B0%D1%86%D0%B8%D0%B8'>коэффициент детерминации</a> (R<sup>2</sup>)\n",
    "| `model.score()`           | Оценка качества модели. Для задач классификации возвращает <a href='https://en.wikipedia.org/wiki/Accuracy_and_precision'>точность (accuracy)</a> классификации|\n",
    "\n",
    "Мы будем использовать эти функции для обучения, предсказания и оценки модели. \n",
    "\n",
    "## Данные для обучения\n",
    "Для обучения нам нужно использовать какой нибудь набор данных. Для наглядности мы будем использовать синтетические данные, которые сами сгенерируем."
   ]
  },
  {
   "cell_type": "code",
   "execution_count": 1,
   "metadata": {
    "ExecuteTime": {
     "end_time": "2018-01-21T08:50:08.193477Z",
     "start_time": "2018-01-21T08:50:07.871979Z"
    },
    "collapsed": true,
    "scrolled": true
   },
   "outputs": [],
   "source": [
    "import matplotlib.pyplot as plt\n",
    "import numpy as np\n",
    "%matplotlib inline"
   ]
  },
  {
   "cell_type": "code",
   "execution_count": 2,
   "metadata": {
    "ExecuteTime": {
     "end_time": "2018-01-21T08:50:08.202982Z",
     "start_time": "2018-01-21T08:50:08.194979Z"
    }
   },
   "outputs": [
    {
     "data": {
      "text/plain": [
       "((100,), (100,))"
      ]
     },
     "execution_count": 2,
     "metadata": {},
     "output_type": "execute_result"
    }
   ],
   "source": [
    "x = np.linspace(-3, 3, 100)\n",
    "rng = np.random.RandomState(0)\n",
    "y = np.sin(4 * x) + x + rng.uniform(size=len(x))\n",
    "x.shape, y.shape"
   ]
  },
  {
   "cell_type": "markdown",
   "metadata": {},
   "source": [
    "Наши данные выглядят следующим образом"
   ]
  },
  {
   "cell_type": "code",
   "execution_count": 3,
   "metadata": {
    "ExecuteTime": {
     "end_time": "2018-01-21T08:50:08.340980Z",
     "start_time": "2018-01-21T08:50:08.205480Z"
    }
   },
   "outputs": [
    {
     "data": {
      "image/png": "[encoded data removed]",
      "text/plain": [
       "<matplotlib.figure.Figure at 0x2e6d326cc18>"
      ]
     },
     "metadata": {},
     "output_type": "display_data"
    }
   ],
   "source": [
    "plt.plot(x, y, 'o');"
   ]
  },
  {
   "cell_type": "markdown",
   "metadata": {},
   "source": [
    "В нашем примере данные `x` являются одномерными, так как мы сгенерировали данные только с одной колонкой. Но для линейной регрессии данные нужны в матричном виде. Поэтому мы из `x` сделаем матрицу с помощью функции `np.reshape`, чтобы получить матрицу размером (100 x 1)"
   ]
  },
  {
   "cell_type": "code",
   "execution_count": 4,
   "metadata": {
    "ExecuteTime": {
     "end_time": "2018-01-21T08:50:08.350480Z",
     "start_time": "2018-01-21T08:50:08.342483Z"
    }
   },
   "outputs": [
    {
     "name": "stdout",
     "output_type": "stream",
     "text": [
      "Before:  (100,)\n",
      "After:  (100, 1)\n"
     ]
    }
   ],
   "source": [
    "print('Before: ', x.shape)\n",
    "X = x.reshape(-1, 1)\n",
    "print('After: ', X.shape)"
   ]
  },
  {
   "cell_type": "markdown",
   "metadata": {},
   "source": [
    "Как было сказано в начале, данные необходимо разбить на обучающиую и тестовую выборку:\n",
    "<img src=\"img/train_test_split_matrix.svg\" width=\"100%\">\n",
    "\n",
    "Для этого мы будем использовать функцию `train_test_split` из модуля `sklearn.model_selection`, которая разбивает набор данных в заданной пропорции (в нашем случае 75% обучающих и 25% тестовых данных). Обратите ткже внимание на то, что мы зафиксировали random_state, разбить данные в члучайном порядке, но при этом последующие разбиения будут давать такой же результат. Это важно, чтобы при обучении результаты были совместимы при последующих запусках"
   ]
  },
  {
   "cell_type": "code",
   "execution_count": 5,
   "metadata": {
    "ExecuteTime": {
     "end_time": "2018-01-21T08:50:08.641977Z",
     "start_time": "2018-01-21T08:50:08.352483Z"
    },
    "collapsed": true
   },
   "outputs": [],
   "source": [
    "from sklearn.model_selection import train_test_split\n",
    "\n",
    "X_train, X_test, y_train, y_test = train_test_split(X, y, test_size=0.25, random_state=42)"
   ]
  },
  {
   "cell_type": "code",
   "execution_count": 6,
   "metadata": {
    "ExecuteTime": {
     "end_time": "2018-01-21T08:50:08.650977Z",
     "start_time": "2018-01-21T08:50:08.643479Z"
    }
   },
   "outputs": [
    {
     "name": "stdout",
     "output_type": "stream",
     "text": [
      "X_train.shape:  (75, 1)\n",
      "X_test.shape:   (25, 1)\n",
      "y_train.shape:  (75,)\n",
      "y_test.shape:   (25,)\n"
     ]
    }
   ],
   "source": [
    "print('X_train.shape: ', X_train.shape)\n",
    "print('X_test.shape:  ', X_test.shape)\n",
    "print('y_train.shape: ', y_train.shape)\n",
    "print('y_test.shape:  ', y_test.shape)"
   ]
  },
  {
   "cell_type": "markdown",
   "metadata": {},
   "source": [
    "Теперь у нас все готово для обучения модели. В sklearn линейная регрессия реализована в классе <a href='http://scikit-learn.org/stable/modules/generated/sklearn.linear_model.LinearRegression.html'>`LinearRegression`</a> в модуле `sklearn.linear_model`. Нам достаточно создать экземпляр (instance) этого класса и вызвать функцию `fit`, чтобы обучить модель"
   ]
  },
  {
   "cell_type": "code",
   "execution_count": 7,
   "metadata": {
    "ExecuteTime": {
     "end_time": "2018-01-21T08:50:08.714976Z",
     "start_time": "2018-01-21T08:50:08.655479Z"
    }
   },
   "outputs": [
    {
     "data": {
      "text/plain": [
       "LinearRegression(copy_X=True, fit_intercept=True, n_jobs=1, normalize=False)"
      ]
     },
     "execution_count": 7,
     "metadata": {},
     "output_type": "execute_result"
    }
   ],
   "source": [
    "from sklearn.linear_model import LinearRegression\n",
    "\n",
    "model = LinearRegression()\n",
    "model.fit(X_train, y_train)"
   ]
  },
  {
   "cell_type": "markdown",
   "metadata": {},
   "source": [
    "Как было сказано ранее, линейная регрессия представляет связь между данными $\\vec{x}$ и $y$ в виде линейной связи. В нашем случае $\\vec{x}$ состоит только из одного элемента. Поэтому у нас есть два  параметра $\\vec{\\theta}=(\\theta_0, \\theta_1)$. Слеовательно линейная регрессия имеет следующий вид:\n",
    "$$y = \\theta_0 + \\theta_1 x_1$$\n",
    "Мы можем получить эти параметры следующим образом"
   ]
  },
  {
   "cell_type": "code",
   "execution_count": 8,
   "metadata": {
    "ExecuteTime": {
     "end_time": "2018-01-21T08:50:08.723978Z",
     "start_time": "2018-01-21T08:50:08.716981Z"
    },
    "scrolled": true
   },
   "outputs": [
    {
     "name": "stdout",
     "output_type": "stream",
     "text": [
      "y-axis intercept:  0.457856036118\n",
      "Weight coefficients:  [ 0.86912326]\n"
     ]
    }
   ],
   "source": [
    "print('y-axis intercept: ', model.intercept_)\n",
    "print('Weight coefficients: ', model.coef_)"
   ]
  },
  {
   "cell_type": "markdown",
   "metadata": {},
   "source": [
    "Полюзуясь этими коэффициентами мы можем нарисовать прямую линейной регрессии"
   ]
  },
  {
   "cell_type": "code",
   "execution_count": 9,
   "metadata": {
    "ExecuteTime": {
     "end_time": "2018-01-21T08:50:08.883976Z",
     "start_time": "2018-01-21T08:50:08.725980Z"
    }
   },
   "outputs": [
    {
     "data": {
      "image/png": "[encoded data removed]",
      "text/plain": [
       "<matplotlib.figure.Figure at 0x2e6d45a4978>"
      ]
     },
     "metadata": {},
     "output_type": "display_data"
    }
   ],
   "source": [
    "min_pt = X.min() * model.coef_[0] + model.intercept_\n",
    "max_pt = X.max() * model.coef_[0] + model.intercept_\n",
    "\n",
    "plt.plot([X.min(), X.max()], [min_pt, max_pt], label='Real data')\n",
    "plt.plot(X_train, y_train, 'o', label='Fitted line');"
   ]
  },
  {
   "cell_type": "markdown",
   "metadata": {},
   "source": [
    "Теперь используя обученную модель `model` мы можем предсказать значения для тестовых данных"
   ]
  },
  {
   "cell_type": "code",
   "execution_count": 10,
   "metadata": {
    "ExecuteTime": {
     "end_time": "2018-01-21T08:50:08.889978Z",
     "start_time": "2018-01-21T08:50:08.885977Z"
    },
    "collapsed": true
   },
   "outputs": [],
   "source": [
    "y_pred_test = model.predict(X_test)"
   ]
  },
  {
   "cell_type": "code",
   "execution_count": 11,
   "metadata": {
    "ExecuteTime": {
     "end_time": "2018-01-21T08:50:09.069980Z",
     "start_time": "2018-01-21T08:50:08.891980Z"
    }
   },
   "outputs": [
    {
     "data": {
      "image/png": "[encoded data removed]",
      "text/plain": [
       "<matplotlib.figure.Figure at 0x2e6d45a4780>"
      ]
     },
     "metadata": {},
     "output_type": "display_data"
    }
   ],
   "source": [
    "plt.plot(X_test, y_test, 'o', label='Real data')\n",
    "plt.plot(X_test, y_pred_test, 'o', label='Prediction')\n",
    "plt.plot([X.min(), X.max()], [min_pt, max_pt], label='Fitted line')\n",
    "plt.legend(loc='best');"
   ]
  },
  {
   "cell_type": "markdown",
   "metadata": {},
   "source": [
    "С помощью функции `score()` мы можем оценить качество модели с помощью метрики <a href='https://ru.wikipedia.org/wiki/%D0%9A%D0%BE%D1%8D%D1%84%D1%84%D0%B8%D1%86%D0%B8%D0%B5%D0%BD%D1%82_%D0%B4%D0%B5%D1%82%D0%B5%D1%80%D0%BC%D0%B8%D0%BD%D0%B0%D1%86%D0%B8%D0%B8'>коэффициента детерминации</a> R<sup>2</sup>"
   ]
  },
  {
   "cell_type": "code",
   "execution_count": 12,
   "metadata": {
    "ExecuteTime": {
     "end_time": "2018-01-21T08:50:09.080479Z",
     "start_time": "2018-01-21T08:50:09.071980Z"
    }
   },
   "outputs": [
    {
     "data": {
      "text/plain": [
       "0.83219630235949793"
      ]
     },
     "execution_count": 12,
     "metadata": {},
     "output_type": "execute_result"
    }
   ],
   "source": [
    "model.score(X_test, y_test)"
   ]
  }
 ],
 "metadata": {
  "hide_input": false,
  "kernelspec": {
   "display_name": "Python 3",
   "language": "python",
   "name": "python3"
  },
  "language_info": {
   "codemirror_mode": {
    "name": "ipython",
    "version": 3
   },
   "file_extension": ".py",
   "mimetype": "text/x-python",
   "name": "python",
   "nbconvert_exporter": "python",
   "pygments_lexer": "ipython3",
   "version": "3.6.1"
  },
  "varInspector": {
   "cols": {
    "lenName": 16,
    "lenType": 16,
    "lenVar": 40
   },
   "kernels_config": {
    "python": {
     "delete_cmd_postfix": "",
     "delete_cmd_prefix": "del ",
     "library": "var_list.py",
     "varRefreshCmd": "print(var_dic_list())"
    },
    "r": {
     "delete_cmd_postfix": ") ",
     "delete_cmd_prefix": "rm(",
     "library": "var_list.r",
     "varRefreshCmd": "cat(var_dic_list()) "
    }
   },
   "types_to_exclude": [
    "module",
    "function",
    "builtin_function_or_method",
    "instance",
    "_Feature"
   ],
   "window_display": false
  }
 },
 "nbformat": 4,
 "nbformat_minor": 2
}

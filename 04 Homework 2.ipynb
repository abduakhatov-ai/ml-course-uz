{
 "cells": [
  {
   "cell_type": "markdown",
   "metadata": {},
   "source": [
    "# Задания по машинному обучению\n",
    "В sklearn есть несколько простых наборов данных, которые можно использовать для работы с алгоритмами этой библиотеки. В этом задании мы будем использовать исторические данные по ценам квартир в городе Бостон и его окрестностях. Описание данных можно получить по <a href='https://www.cs.toronto.edu/~delve/data/boston/bostonDetail.html'>этой ссылке</a>.\n",
    "\n",
    "Для загрузки данных мы будем использовать функцию `load_boston` из модуля `sklearn.datasets`. Данные для обучения находятся в атрибуте `data`, целевое значение, которое нужно предсказать в атрибуте `target`"
   ]
  },
  {
   "cell_type": "code",
   "execution_count": 1,
   "metadata": {
    "ExecuteTime": {
     "end_time": "2018-01-26T14:26:56.858982Z",
     "start_time": "2018-01-26T14:26:56.449483Z"
    }
   },
   "outputs": [
    {
     "name": "stdout",
     "output_type": "stream",
     "text": [
      "data shape: (506, 13)\n",
      "target shape: (506,)\n"
     ]
    }
   ],
   "source": [
    "from sklearn.datasets import load_boston\n",
    "boston = load_boston()\n",
    "print('data shape:', boston.data.shape)\n",
    "print('target shape:', boston.target.shape)"
   ]
  },
  {
   "cell_type": "markdown",
   "metadata": {},
   "source": [
    "#### 1. Разбейте данные и целевые значения в пропорции 80% на 20%. Сохраните первую часть в переменных `X_train` и `y_train`, вторую часть в `X_test` и `y_test`"
   ]
  },
  {
   "cell_type": "code",
   "execution_count": null,
   "metadata": {
    "collapsed": true
   },
   "outputs": [],
   "source": []
  },
  {
   "cell_type": "markdown",
   "metadata": {},
   "source": [
    "#### 2. Создайте и обучите модель линейной регрессии с помощью  `sklearn.linear_model.LinearRegression()` используя первую обучающую выборку"
   ]
  },
  {
   "cell_type": "code",
   "execution_count": null,
   "metadata": {
    "collapsed": true
   },
   "outputs": [],
   "source": []
  },
  {
   "cell_type": "markdown",
   "metadata": {},
   "source": [
    "#### 3. Предскажите цены для второй тестовой выборки используя обученную модель. Выведите также `score` для этой модели"
   ]
  },
  {
   "cell_type": "code",
   "execution_count": null,
   "metadata": {
    "collapsed": true
   },
   "outputs": [],
   "source": []
  },
  {
   "cell_type": "markdown",
   "metadata": {},
   "source": [
    "#### 4. Реализуйте Normal equation $\\vec{\\theta} = \\left(X^T X\\right)^{-1} X^T \\vec{y}$ и вычислите с помощью него коэффициенты регрессии для обучающей выборки. Для вычисления обратной матрицы используйте функцию `np.linalg.inv`. Сравните полученные параметры с теми, которые были созданы во втором задании (для сравнения результатов можно использовать функцию `np.allclose`)"
   ]
  },
  {
   "cell_type": "code",
   "execution_count": null,
   "metadata": {
    "collapsed": true
   },
   "outputs": [],
   "source": []
  },
  {
   "cell_type": "markdown",
   "metadata": {},
   "source": [
    "#### 5. Реализуйте формулу линейной регрессии ($\\hat{\\vec{y}} = X\\vec{\\theta}$). Используйте в качестве параметров $\\vec{\\theta}$ те, что были получены во втором задании и вычислите цены квартир для тестовой выборки. Сравните результаты с результатами третьего задания"
   ]
  },
  {
   "cell_type": "code",
   "execution_count": null,
   "metadata": {
    "collapsed": true
   },
   "outputs": [],
   "source": []
  },
  {
   "cell_type": "markdown",
   "metadata": {},
   "source": [
    "#### 6. Реализуйте среднеквадратическую ошибку в векторной форме $L = \\frac{1}{2n} \\left\\| \\hat{\\vec{y}} - \\vec{y} \\right\\|_2^2$. Вычислите с помощью него ошибку для третьего задания"
   ]
  },
  {
   "cell_type": "code",
   "execution_count": null,
   "metadata": {
    "collapsed": true
   },
   "outputs": [],
   "source": []
  },
  {
   "cell_type": "markdown",
   "metadata": {},
   "source": [
    "#### 7. Реализуйте алгоритм градиентногог спуска используя пятую и шестую задании. В качестве градиента среднеквадратической ошибки используйте формулу $\\frac{1}{n}X^T(X \\vec{\\theta} - \\vec{y})$. Обучите модель линейной регрессии с помощью обучающей выборки и сделайте предсказания для тестовой выборки. Сравните результаты с третьим заданием"
   ]
  },
  {
   "cell_type": "code",
   "execution_count": null,
   "metadata": {
    "collapsed": true
   },
   "outputs": [],
   "source": []
  }
 ],
 "metadata": {
  "anaconda-cloud": {},
  "hide_input": false,
  "kernelspec": {
   "display_name": "Python [default]",
   "language": "python",
   "name": "python3"
  },
  "language_info": {
   "codemirror_mode": {
    "name": "ipython",
    "version": 3
   },
   "file_extension": ".py",
   "mimetype": "text/x-python",
   "name": "python",
   "nbconvert_exporter": "python",
   "pygments_lexer": "ipython3",
   "version": "3.5.2"
  },
  "varInspector": {
   "cols": {
    "lenName": 16,
    "lenType": 16,
    "lenVar": 40
   },
   "kernels_config": {
    "python": {
     "delete_cmd_postfix": "",
     "delete_cmd_prefix": "del ",
     "library": "var_list.py",
     "varRefreshCmd": "print(var_dic_list())"
    },
    "r": {
     "delete_cmd_postfix": ") ",
     "delete_cmd_prefix": "rm(",
     "library": "var_list.r",
     "varRefreshCmd": "cat(var_dic_list()) "
    }
   },
   "types_to_exclude": [
    "module",
    "function",
    "builtin_function_or_method",
    "instance",
    "_Feature"
   ],
   "window_display": false
  }
 },
 "nbformat": 4,
 "nbformat_minor": 2
}
